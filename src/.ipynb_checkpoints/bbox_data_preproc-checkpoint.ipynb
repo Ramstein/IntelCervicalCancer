{
 "cells": [
  {
   "cell_type": "code",
   "execution_count": null,
   "metadata": {
    "collapsed": true
   },
   "outputs": [],
   "source": [
    "import numpy as np\n",
    "import pandas as pd\n",
    "import cv2\n",
    "\n",
    "import os\n",
    "from os.path import join\n",
    "\n",
    "from src.scripts.utils import *\n",
    "from src.scripts.bbox_data_preproc import augment_save_data_df, load_bboxes_train_val_df\n",
    "from src.scripts.train_val import load_train_val_df\n",
    "\n",
    "import matplotlib.pyplot as plt\n",
    "%matplotlib inline"
   ]
  },
  {
   "cell_type": "code",
   "execution_count": null,
   "metadata": {},
   "outputs": [],
   "source": [
    "size = (192, 192)\n",
    "aug_output_dir = '/workdir/data/detect_data/data001_size192'\n",
    "\n",
    "train_df, val_df = load_bboxes_train_val_df()\n",
    "\n",
    "augment_save_data_df(val_df, join(aug_output_dir, 'val'), size)\n",
    "augment_save_data_df(train_df, join(aug_output_dir, 'train'), size)"
   ]
  },
  {
   "cell_type": "code",
   "execution_count": null,
   "metadata": {
    "collapsed": true
   },
   "outputs": [],
   "source": []
  }
 ],
 "metadata": {
  "kernelspec": {
   "display_name": "Python 3",
   "language": "python",
   "name": "python3"
  },
  "language_info": {
   "codemirror_mode": {
    "name": "ipython",
    "version": 3
   },
   "file_extension": ".py",
   "mimetype": "text/x-python",
   "name": "python",
   "nbconvert_exporter": "python",
   "pygments_lexer": "ipython3",
   "version": "3.7.6"
  }
 },
 "nbformat": 4,
 "nbformat_minor": 2
}
